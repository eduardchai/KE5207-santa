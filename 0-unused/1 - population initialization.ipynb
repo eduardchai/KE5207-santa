{
 "cells": [
  {
   "cell_type": "code",
   "execution_count": 1,
   "metadata": {},
   "outputs": [],
   "source": [
    "import csv\n",
    "import time\n",
    "import pandas as pd\n",
    "import random\n",
    "import utils\n",
    "import os\n",
    "import multiprocessing\n",
    "import redis\n",
    "import json\n",
    "from functools import partial\n",
    "from classes.gift import Gift\n",
    "from classes.trip import Trip"
   ]
  },
  {
   "cell_type": "code",
   "execution_count": 2,
   "metadata": {},
   "outputs": [],
   "source": [
    "DATA_PATH = \"./data/gifts.csv\"\n",
    "SLEIGH_CAPACITY = 1000\n",
    "INITIAL_POPULATION_SIZE = 200\n",
    "MAX_ITERATIONS = 100000\n",
    "TOP_K = 10"
   ]
  },
  {
   "cell_type": "code",
   "execution_count": 3,
   "metadata": {},
   "outputs": [],
   "source": [
    "redis_client = redis.StrictRedis(host='localhost', port=6379, db=0)"
   ]
  },
  {
   "cell_type": "markdown",
   "metadata": {},
   "source": [
    "## Read data into list"
   ]
  },
  {
   "cell_type": "code",
   "execution_count": null,
   "metadata": {},
   "outputs": [],
   "source": [
    "start = time.time()\n",
    "print(\"Initiating Dataset Loading...\")\n",
    "\n",
    "df = pd.read_csv(DATA_PATH)\n",
    "gift_list = []\n",
    "\n",
    "for i in range(len(df)):\n",
    "    gift_series = df.iloc[i]\n",
    "    gift = {\n",
    "        'gift_id': gift_series.GiftId,\n",
    "        'latitude': gift_series.Latitude,\n",
    "        'longitude': gift_series.Longitude,\n",
    "        'weight': gift_series.Weight\n",
    "    }\n",
    "    gift_list.append(gift)\n",
    "    \n",
    "end = time.time()\n",
    "print(\"Time Taken to load dataset:\", end-start)"
   ]
  },
  {
   "cell_type": "markdown",
   "metadata": {},
   "source": [
    "## Generate initial population"
   ]
  },
  {
   "cell_type": "code",
   "execution_count": null,
   "metadata": {},
   "outputs": [],
   "source": [
    "def generate_population(initial_population, i):\n",
    "    if (i+1) % 100 == 0:\n",
    "        print(\"generating population\", i+1)\n",
    "        \n",
    "    random.shuffle(gift_list)\n",
    "    total_weight = 0\n",
    "    total_cost = 0\n",
    "    trip_list = []\n",
    "\n",
    "    j = 0\n",
    "    trip_id = 1\n",
    "    while j < len(gift_list):\n",
    "        gift_trip_list = []\n",
    "        total_weight = 0\n",
    "        while j < len(gift_list) and (total_weight + gift_list[i]['weight']) <= SLEIGH_CAPACITY:\n",
    "            curr_gift = gift_list[j]\n",
    "            gift_trip_list.append(curr_gift)\n",
    "            total_weight = total_weight + curr_gift['weight']\n",
    "            j += 1\n",
    "\n",
    "        trip_id += 1\n",
    "        trip_cost = utils.tripCost(gift_trip_list)\n",
    "        trip_order = {\n",
    "            'gift_list': gift_trip_list,\n",
    "            'trip_cost': trip_cost\n",
    "        }\n",
    "        total_cost += trip_cost\n",
    "        trip_list.append(trip_order)\n",
    "        \n",
    "    redis_client.hset(f'ind-{i}', 'trip_list', json.dumps(trip_list))\n",
    "    redis_client.hset(f'ind-{i}', 'total_cost', total_cost)"
   ]
  },
  {
   "cell_type": "code",
   "execution_count": null,
   "metadata": {},
   "outputs": [],
   "source": [
    "start = time.time()\n",
    "print(\"Initiating population...\")\n",
    "\n",
    "pool = multiprocessing.Pool(processes = multiprocessing.cpu_count()-1)\n",
    "mp_initial_population = multiprocessing.Manager().list()\n",
    "size_list = list(range(INITIAL_POPULATION_SIZE))\n",
    "func = partial(generate_population, mp_initial_population)\n",
    "\n",
    "pool.map(func, size_list)\n",
    "pool.close()\n",
    "pool.join()\n",
    "\n",
    "end = time.time()\n",
    "print(\"Time taken to init population:\", end-start)"
   ]
  },
  {
   "cell_type": "markdown",
   "metadata": {},
   "source": [
    "## Population generation"
   ]
  },
  {
   "cell_type": "code",
   "execution_count": 5,
   "metadata": {},
   "outputs": [],
   "source": [
    "def sort_population_by_fitness():\n",
    "    initial_population_index = []\n",
    "    for i in range(INITIAL_POPULATION_SIZE):\n",
    "        initial_population_index.append((i, float(redis_client.hget(f'ind-{i}', 'total_cost'))))\n",
    "    sort_by_fitness = sorted(initial_population_index, key=lambda tup: tup[1])\n",
    "    end = time.time()\n",
    "    return sort_by_fitness"
   ]
  },
  {
   "cell_type": "code",
   "execution_count": 5,
   "metadata": {},
   "outputs": [],
   "source": [
    "def mutate_individual(trip_list, total_cost):\n",
    "    mutation_count = int(len(trip_list) * 0.01)\n",
    "    for i in range(mutation_count):\n",
    "        trip_index = random.randint(0, len(trip_list) - 1)\n",
    "        chosen_trip = trip_list[trip_index]\n",
    "        swapped_gift_list = utils.mutateGiftList(chosen_trip['gift_list'])\n",
    "        temp_trip_cost = utils.tripCost(swapped_gift_list)\n",
    "\n",
    "        if temp_trip_cost < chosen_trip['trip_cost']:\n",
    "            total_cost = total_cost - chosen_trip['trip_cost'] + temp_trip_cost\n",
    "            trip_list[trip_index]['gift_list'] = swapped_gift_list\n",
    "            trip_list[trip_index]['trip_cost'] = temp_trip_cost\n",
    "        \n",
    "    return trip_list, total_cost"
   ]
  },
  {
   "cell_type": "code",
   "execution_count": 6,
   "metadata": {},
   "outputs": [],
   "source": [
    "def crossover(trip_list, total_cost):\n",
    "    crossover_count = int(len(trip_list) * 0.01)\n",
    "    for i in range(crossover_count):\n",
    "        trip_index_a, trip_index_b = utils.generateSwapIndices(len(trip_list))\n",
    "\n",
    "        chosen_trip_a = trip_list[trip_index_a]\n",
    "        chosen_trip_b = trip_list[trip_index_b]\n",
    "\n",
    "        gift_list_a = chosen_trip_a['gift_list']\n",
    "        gift_list_b = chosen_trip_b['gift_list']\n",
    "\n",
    "        gift_list_a_total_len = len(gift_list_a)\n",
    "        gift_list_b_total_len = len(gift_list_b)\n",
    "\n",
    "        gift_list_a_half_len = int(gift_list_a_total_len / 2)\n",
    "        gift_list_b_half_len = int(gift_list_b_total_len / 2)\n",
    "\n",
    "        gift_list_a_half_1 = gift_list_a[:gift_list_a_half_len]\n",
    "        gift_list_a_half_2 = gift_list_a[gift_list_a_half_len:]\n",
    "\n",
    "        gift_list_b_half_1 = gift_list_b[:gift_list_b_half_len]\n",
    "        gift_list_b_half_2 = gift_list_b[gift_list_b_half_len:]\n",
    "\n",
    "        success = False\n",
    "        while not success:\n",
    "            new_gift_list_a = gift_list_a_half_1 + gift_list_b_half_2\n",
    "            new_gift_list_b = gift_list_a_half_2 + gift_list_b_half_1\n",
    "\n",
    "            new_gift_list_a_weight = utils.tripWeightUtil(new_gift_list_a, 0, len(new_gift_list_a)-1)\n",
    "            new_gift_list_b_weight = utils.tripWeightUtil(new_gift_list_b, 0, len(new_gift_list_b)-1)\n",
    "\n",
    "            if new_gift_list_a_weight <= SLEIGH_CAPACITY and new_gift_list_b_weight <= SLEIGH_CAPACITY:\n",
    "                success = True\n",
    "            else:\n",
    "                gift_list_a_half_len += 1\n",
    "                gift_list_b_half_len -= 1\n",
    "                if gift_list_a_half_len >= gift_list_a_total_len or gift_list_b_half_len >= gift_list_b_total_len:\n",
    "                    success = True\n",
    "                else:\n",
    "                    gift_list_a_half_1 = gift_list_a[:gift_list_a_half_len]\n",
    "                    gift_list_a_half_2 = gift_list_a[gift_list_a_half_len:]\n",
    "                    gift_list_b_half_1 = gift_list_b[:gift_list_b_half_len]\n",
    "                    gift_list_b_half_2 = gift_list_b[gift_list_b_half_len:]\n",
    "\n",
    "        # Check if new gene is better\n",
    "        gift_list_a_cost = chosen_trip_a['trip_cost']\n",
    "        gift_list_b_cost = chosen_trip_b['trip_cost']\n",
    "\n",
    "        new_gift_list_a_cost = utils.tripCost(new_gift_list_a)\n",
    "        new_gift_list_b_cost = utils.tripCost(new_gift_list_b)\n",
    "\n",
    "        crossover_final_cost = (new_gift_list_a_cost - gift_list_a_cost) + (new_gift_list_b_cost - gift_list_b_cost)\n",
    "        if crossover_final_cost < 0:\n",
    "            trip_list[trip_index_a] = {\n",
    "                'gift_list': new_gift_list_a,\n",
    "                'trip_cost': new_gift_list_a_cost\n",
    "            }\n",
    "            trip_list[trip_index_b] = {\n",
    "                'gift_list': new_gift_list_b,\n",
    "                'trip_cost': new_gift_list_b_cost\n",
    "            }\n",
    "\n",
    "            total_cost += crossover_final_cost\n",
    "        \n",
    "    return trip_list, total_cost"
   ]
  },
  {
   "cell_type": "code",
   "execution_count": 13,
   "metadata": {},
   "outputs": [],
   "source": [
    "def generate_new_population(iteration):\n",
    "    sorted_population = sort_population_by_fitness()\n",
    "    if iteration % 10000 == 0:\n",
    "        print(f'iteration: {i} best_score: {sorted_population[0][1]}')\n",
    "    \n",
    "    mutation_method = random.randint(0, 1)\n",
    "    if mutation_method == 0:\n",
    "        picked_index = random.randint(INITIAL_POPULATION_SIZE - TOP_K, INITIAL_POPULATION_SIZE - 1) # LAST 10\n",
    "    else:\n",
    "        picked_index = random.randint(0, TOP_K - 1) # TOP 10\n",
    "        \n",
    "    chosen_index = sorted_population[picked_index][0]\n",
    "    \n",
    "    chosen_ind_trip_list = json.loads(redis_client.hget(f'ind-{chosen_index}', 'trip_list'))\n",
    "    chosen_ind_total_cost = float(redis_client.hget(f'ind-{chosen_index}', 'total_cost'))\n",
    "    \n",
    "    chosen_ind_trip_list, chosen_ind_total_cost = mutate_individual(chosen_ind_trip_list, chosen_ind_total_cost)\n",
    "    chosen_ind_trip_list, chosen_ind_total_cost = crossover(chosen_ind_trip_list, chosen_ind_total_cost)\n",
    "    \n",
    "    redis_client.hset(f'ind-{chosen_index}', 'trip_list', json.dumps(chosen_ind_trip_list))\n",
    "    redis_client.hset(f'ind-{chosen_index}', 'total_cost', chosen_ind_total_cost)"
   ]
  },
  {
   "cell_type": "code",
   "execution_count": null,
   "metadata": {},
   "outputs": [],
   "source": [
    "pool = multiprocessing.Pool(processes = multiprocessing.cpu_count()-1)\n",
    "iterations = list(range(MAX_ITERATIONS))\n",
    "\n",
    "pool.map(generate_new_population, iterations)\n",
    "pool.close()\n",
    "pool.join()"
   ]
  },
  {
   "cell_type": "code",
   "execution_count": 6,
   "metadata": {},
   "outputs": [],
   "source": [
    "sorted_population = sort_population_by_fitness()"
   ]
  },
  {
   "cell_type": "code",
   "execution_count": 7,
   "metadata": {},
   "outputs": [
    {
     "data": {
      "text/plain": [
       "382568826365.13855"
      ]
     },
     "execution_count": 7,
     "metadata": {},
     "output_type": "execute_result"
    }
   ],
   "source": [
    "sorted_population[0][1]"
   ]
  },
  {
   "cell_type": "code",
   "execution_count": null,
   "metadata": {},
   "outputs": [],
   "source": []
  }
 ],
 "metadata": {
  "kernelspec": {
   "display_name": "santa",
   "language": "python",
   "name": "santa"
  },
  "language_info": {
   "codemirror_mode": {
    "name": "ipython",
    "version": 3
   },
   "file_extension": ".py",
   "mimetype": "text/x-python",
   "name": "python",
   "nbconvert_exporter": "python",
   "pygments_lexer": "ipython3",
   "version": "3.6.6"
  }
 },
 "nbformat": 4,
 "nbformat_minor": 2
}
