{
 "cells": [
  {
   "cell_type": "code",
   "execution_count": null,
   "metadata": {},
   "outputs": [],
   "source": [
    "import csv\n",
    "import time\n",
    "import pandas as pd\n",
    "import random\n",
    "import utils\n",
    "import os\n",
    "import multiprocessing\n",
    "from functools import partial\n",
    "from classes.gift import Gift\n",
    "from classes.trip import Trip"
   ]
  },
  {
   "cell_type": "code",
   "execution_count": null,
   "metadata": {},
   "outputs": [],
   "source": [
    "random.seed(50)\n",
    "\n",
    "DATA_PATH = \"./data/gifts.csv\"\n",
    "SLEIGH_CAPACITY = 1000\n",
    "INITIAL_POPULATION_SIZE = 50000\n",
    "MAX_ITERATIONS = 10000\n",
    "TOP_K = 10"
   ]
  },
  {
   "cell_type": "markdown",
   "metadata": {},
   "source": [
    "## Read data into list"
   ]
  },
  {
   "cell_type": "code",
   "execution_count": null,
   "metadata": {},
   "outputs": [],
   "source": [
    "start = time.time()\n",
    "print(\"Initiating Dataset Loading...\")\n",
    "\n",
    "df = pd.read_csv(DATA_PATH)\n",
    "gift_list = []\n",
    "\n",
    "for i in range(len(df)):\n",
    "    gift_series = df.iloc[i]\n",
    "    gift = Gift(gift_series.GiftId, gift_series.Latitude, gift_series.Longitude, gift_series.Weight)\n",
    "    gift_list.append(gift)\n",
    "    \n",
    "end = time.time()\n",
    "print(\"Time Taken to load dataset:\", end-start)"
   ]
  },
  {
   "cell_type": "markdown",
   "metadata": {},
   "source": [
    "## Generate Initial population"
   ]
  },
  {
   "cell_type": "markdown",
   "metadata": {},
   "source": [
    "Create initial population output folder"
   ]
  },
  {
   "cell_type": "code",
   "execution_count": null,
   "metadata": {},
   "outputs": [],
   "source": [
    "dir_path = \"./initial_population/\" + str(int(time.time()))\n",
    "if not os.path.exists(dir_path):\n",
    "    os.makedirs(dir_path)"
   ]
  },
  {
   "cell_type": "code",
   "execution_count": null,
   "metadata": {},
   "outputs": [],
   "source": [
    "def generate_population(initial_population, i):\n",
    "    if (i+1) % 100 == 0:\n",
    "        print(\"generating population\", i+1)\n",
    "        \n",
    "    file_path = os.path.join(dir_path, \"trip-{0:0=5d}.csv\".format(i+1))\n",
    "    \n",
    "    with open(file_path, mode=\"w\") as trip_file:\n",
    "        trip_writer = csv.writer(trip_file, delimiter=',', quotechar='\"', quoting=csv.QUOTE_MINIMAL)\n",
    "        trip_writer.writerow([\"tripId\", \"giftId\", \"latitude\", \"longitude\", \"weight\"])\n",
    "        random.shuffle(gift_list)\n",
    "        total_weight = 0\n",
    "        trip_list = []\n",
    "\n",
    "        j = 0\n",
    "        trip_id = 1\n",
    "        while j < len(gift_list):\n",
    "            gift_trip_list = []\n",
    "            total_weight = 0\n",
    "            while j < len(gift_list) and (total_weight + gift_list[i].weight) <= SLEIGH_CAPACITY:\n",
    "                curr_gift = gift_list[j]\n",
    "                gift_trip_list.append(curr_gift)\n",
    "                total_weight = total_weight + curr_gift.weight\n",
    "                trip_writer.writerow([trip_id, curr_gift.giftId, curr_gift.latitude, curr_gift.longitude, curr_gift.weight])\n",
    "                j += 1\n",
    "\n",
    "            trip_id += 1\n",
    "            trip_order = Trip(gift_trip_list, utils.tripCost(gift_trip_list))\n",
    "            trip_list.append(trip_order)\n",
    "\n",
    "    initial_population.append(trip_list)\n",
    "    "
   ]
  },
  {
   "cell_type": "code",
   "execution_count": null,
   "metadata": {},
   "outputs": [],
   "source": [
    "start = time.time()\n",
    "print(\"Initiating population...\")\n",
    "\n",
    "pool = multiprocessing.Pool(processes = multiprocessing.cpu_count()-1)\n",
    "initial_population = multiprocessing.Manager().list()\n",
    "size_list = list(range(INITIAL_POPULATION_SIZE))\n",
    "func = partial(generate_population, initial_population)\n",
    "\n",
    "pool.map(func, size_list)\n",
    "pool.close()\n",
    "pool.join()\n",
    "\n",
    "end = time.time()\n",
    "print(\"Time taken to init population:\", end-start)"
   ]
  },
  {
   "cell_type": "code",
   "execution_count": null,
   "metadata": {},
   "outputs": [],
   "source": []
  }
 ],
 "metadata": {
  "kernelspec": {
   "display_name": "santa",
   "language": "python",
   "name": "santa"
  },
  "language_info": {
   "codemirror_mode": {
    "name": "ipython",
    "version": 3
   },
   "file_extension": ".py",
   "mimetype": "text/x-python",
   "name": "python",
   "nbconvert_exporter": "python",
   "pygments_lexer": "ipython3",
   "version": "3.6.6"
  }
 },
 "nbformat": 4,
 "nbformat_minor": 2
}
